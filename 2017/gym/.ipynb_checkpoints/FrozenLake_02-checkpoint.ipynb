{
 "cells": [
  {
   "cell_type": "code",
   "execution_count": 1,
   "metadata": {
    "collapsed": true
   },
   "outputs": [],
   "source": [
    "%matplotlib inline\n",
    "from matplotlib import pyplot as plt\n",
    "import gym\n",
    "import numpy as np\n",
    "from gym.envs.registration import register\n",
    "from gym import wrappers\n",
    "import shutil"
   ]
  },
  {
   "cell_type": "code",
   "execution_count": 2,
   "metadata": {
    "collapsed": true
   },
   "outputs": [],
   "source": [
    "# register(\n",
    "#     id='FrozenLakeNotSlippery-v0',\n",
    "#     entry_point='gym.envs.toy_text:FrozenLakeEnv',\n",
    "#     kwargs={'map_name' : '4x4', 'is_slippery': False},\n",
    "#     max_episode_steps=100,\n",
    "#     reward_threshold=0.78, # optimum = .8196\n",
    "# )\n",
    "\n",
    "#env = gym.make('FrozenLakeNotSlippery-v0')\n"
   ]
  },
  {
   "cell_type": "code",
   "execution_count": 3,
   "metadata": {},
   "outputs": [
    {
     "name": "stderr",
     "output_type": "stream",
     "text": [
      "[2017-08-01 03:11:05,282] Making new env: FrozenLake-v0\n",
      "[2017-08-01 03:11:07,029] Creating monitor directory /tmp/FrozenLake_01\n"
     ]
    }
   ],
   "source": [
    "env = gym.make('FrozenLake-v0')\n",
    "shutil.rmtree('/tmp/FrozenLake_01') \n",
    "env = wrappers.Monitor(env, '/tmp/FrozenLake_01')"
   ]
  },
  {
   "cell_type": "code",
   "execution_count": 4,
   "metadata": {
    "scrolled": false
   },
   "outputs": [
    {
     "name": "stderr",
     "output_type": "stream",
     "text": [
      "[2017-08-01 03:11:07,107] Starting new video recorder writing to C:\\tmp\\FrozenLake_01\\openaigym.video.0.7812.video000000.json\n",
      "[2017-08-01 03:11:07,112] Starting new video recorder writing to C:\\tmp\\FrozenLake_01\\openaigym.video.0.7812.video000001.json\n",
      "[2017-08-01 03:11:07,121] Starting new video recorder writing to C:\\tmp\\FrozenLake_01\\openaigym.video.0.7812.video000008.json\n",
      "[2017-08-01 03:11:07,141] Starting new video recorder writing to C:\\tmp\\FrozenLake_01\\openaigym.video.0.7812.video000027.json\n",
      "[2017-08-01 03:11:07,187] Starting new video recorder writing to C:\\tmp\\FrozenLake_01\\openaigym.video.0.7812.video000064.json\n",
      "[2017-08-01 03:11:07,240] Starting new video recorder writing to C:\\tmp\\FrozenLake_01\\openaigym.video.0.7812.video000125.json\n",
      "[2017-08-01 03:11:07,332] Starting new video recorder writing to C:\\tmp\\FrozenLake_01\\openaigym.video.0.7812.video000216.json\n",
      "[2017-08-01 03:11:07,528] Starting new video recorder writing to C:\\tmp\\FrozenLake_01\\openaigym.video.0.7812.video000343.json\n",
      "[2017-08-01 03:11:07,759] Starting new video recorder writing to C:\\tmp\\FrozenLake_01\\openaigym.video.0.7812.video000512.json\n",
      "[2017-08-01 03:11:08,003] Starting new video recorder writing to C:\\tmp\\FrozenLake_01\\openaigym.video.0.7812.video000729.json\n",
      "[2017-08-01 03:11:08,328] Starting new video recorder writing to C:\\tmp\\FrozenLake_01\\openaigym.video.0.7812.video001000.json\n"
     ]
    },
    {
     "name": "stdout",
     "output_type": "stream",
     "text": [
      "Score over time: 0.79\n"
     ]
    },
    {
     "data": {
      "text/plain": [
       "[<matplotlib.lines.Line2D at 0x93dcfd0>]"
      ]
     },
     "execution_count": 4,
     "metadata": {},
     "output_type": "execute_result"
    },
    {
     "data": {
      "image/png": "[encoded data removed]",
      "text/plain": [
       "<matplotlib.figure.Figure at 0x5f7bf28>"
      ]
     },
     "metadata": {},
     "output_type": "display_data"
    }
   ],
   "source": [
    "#Initialize table with all zeros\n",
    "#Q = np.zeros([env.observation_space.n,env.action_space.n])\n",
    "Q= np.zeros((env.observation_space.n, env.action_space.n))\n",
    "# Set learning p-arameters\n",
    "y = 0.95\n",
    "num_episodes = 2000\n",
    "\n",
    "rList = []\n",
    "alpha=np.log(0.000001)/num_episodes\n",
    "for i in range(num_episodes):\n",
    "    lr= np.exp(alpha*i)\n",
    "    #Reset environment and get first new observation\n",
    "    s = env.reset()\n",
    "    rAll = 0\n",
    "    done=False\n",
    "    #The Q-Table learning algorithm\n",
    "    while done==False:\n",
    "        #Choose an action by greedily (with noise) picking from Q table\n",
    "        if np.random.rand() < lr*0.1:\n",
    "            a = np.random.randint(env.action_space.n)\n",
    "        else:\n",
    "            a = np.argmax(Q[s,:] )\n",
    "        #Get new state and reward from environment\n",
    "        s1,reward,done,_ = env.step(a)\n",
    "        if done:\n",
    "            r = 1.0 if reward > 0.0 else -1.0\n",
    "        else:\n",
    "            r = -0.01\n",
    "        #Update Q-Table with new knowledge\n",
    "        Q[s,a] = Q[s,a] +  lr*(r + y*np.max(Q[s1,:]) - Q[s,a])\n",
    "        rAll += reward\n",
    "        s = s1\n",
    "        if done == True:\n",
    "            break\n",
    "    #jList.append(j)\n",
    "    rList.append(rAll)\n",
    "print \"Score over time: \" +  str(sum(rList[-100:])/100.0)\n",
    "plt.plot(np.convolve(np.ones(100),rList,\"valid\"))"
   ]
  },
  {
   "cell_type": "code",
   "execution_count": 5,
   "metadata": {},
   "outputs": [
    {
     "name": "stdout",
     "output_type": "stream",
     "text": [
      "Final Q-Table Values\n",
      "[[-0.05434152 -0.16966545 -0.15454293 -0.17355605]\n",
      " [-0.37224107 -0.54903455 -0.40307729 -0.19496105]\n",
      " [-0.71983384 -0.32521472 -0.50019063 -0.58884444]\n",
      " [-0.65067512 -0.87505773 -0.65288723 -0.36438045]\n",
      " [-0.0249342  -0.4376649  -0.25386935 -0.45939011]\n",
      " [ 0.          0.          0.          0.        ]\n",
      " [-0.41101014 -0.73545578 -0.779566   -0.98993724]\n",
      " [ 0.          0.          0.          0.        ]\n",
      " [-0.7598697  -0.73937808 -0.51829132  0.03892334]\n",
      " [-0.6218725   0.14982506 -0.46546787 -0.15818039]\n",
      " [ 0.12086304 -0.36856093 -0.5076085  -0.83863779]\n",
      " [ 0.          0.          0.          0.        ]\n",
      " [ 0.          0.          0.          0.        ]\n",
      " [-0.27952321 -0.18261356  0.35598277 -0.76409084]\n",
      " [ 0.27780403  0.63988891  0.19223119  0.19816148]\n",
      " [ 0.          0.          0.          0.        ]]\n"
     ]
    }
   ],
   "source": [
    "print \"Final Q-Table Values\"\n",
    "print Q"
   ]
  },
  {
   "cell_type": "code",
   "execution_count": 6,
   "metadata": {},
   "outputs": [
    {
     "name": "stderr",
     "output_type": "stream",
     "text": [
      "[2017-08-01 03:11:09,793] Starting new video recorder writing to C:\\tmp\\FrozenLake_01\\openaigym.video.0.7812.video002000.json\n"
     ]
    },
    {
     "name": "stdout",
     "output_type": "stream",
     "text": [
      "  (Down)\n",
      "SFFF\n",
      "FHFH\n",
      "FFFH\n",
      "HFF\u001b[41mG\u001b[0m\n",
      "23\n"
     ]
    }
   ],
   "source": [
    "s = env.reset()\n",
    "d=False\n",
    "n=0\n",
    "while d==False:\n",
    "    n+=1\n",
    "    a = np.argmax(Q[s,:])\n",
    "    s,r,d,x = env.step(a)\n",
    "    #print(\"%s %s %s %s\"%(s,r,d,x))\n",
    "env.render()\n",
    "print n"
   ]
  },
  {
   "cell_type": "code",
   "execution_count": 7,
   "metadata": {
    "scrolled": true
   },
   "outputs": [
    {
     "name": "stderr",
     "output_type": "stream",
     "text": [
      "[2017-08-01 03:11:18,020] Finished writing results. You can upload them to the scoreboard via gym.upload('C:\\\\tmp\\\\FrozenLake_01')\n",
      "[2017-08-01 03:11:18,028] [FrozenLake-v0] Uploading 2001 episodes of training data\n",
      "[2017-08-01 03:11:20,684] [FrozenLake-v0] Uploading videos of 12 training episodes (1634 bytes)\n",
      "[2017-08-01 03:11:21,346] [FrozenLake-v0] Creating evaluation object from /tmp/FrozenLake_01 with learning curve and training video\n",
      "[2017-08-01 03:11:21,773] \n",
      "****************************************************\n",
      "You successfully uploaded your evaluation on FrozenLake-v0 to\n",
      "OpenAI Gym! You can find it at:\n",
      "\n",
      "    https://gym.openai.com/evaluations/eval_USL3ofLxRruwDEoZ9QCSPg\n",
      "\n",
      "****************************************************\n"
     ]
    }
   ],
   "source": [
    "env.close()\n",
    "gym.upload('/tmp/FrozenLake_01', api_key='sk_o9OoYpSkKamkW8MrKuHw')"
   ]
  },
  {
   "cell_type": "code",
   "execution_count": null,
   "metadata": {
    "collapsed": true
   },
   "outputs": [],
   "source": []
  }
 ],
 "metadata": {
  "kernelspec": {
   "display_name": "Python 2",
   "language": "python",
   "name": "python2"
  },
  "language_info": {
   "codemirror_mode": {
    "name": "ipython",
    "version": 2
   },
   "file_extension": ".py",
   "mimetype": "text/x-python",
   "name": "python",
   "nbconvert_exporter": "python",
   "pygments_lexer": "ipython2",
   "version": "2.7.13"
  }
 },
 "nbformat": 4,
 "nbformat_minor": 2
}
